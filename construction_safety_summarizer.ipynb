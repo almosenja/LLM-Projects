{
 "cells": [
  {
   "cell_type": "markdown",
   "id": "b553be97-bd6f-4459-9a19-85cafc5c4d85",
   "metadata": {},
   "source": [
    "# Safety in Construction Content Summarizer\n",
    "Simple LLM project using OpenAI API to summarize content of a website and give actionable recommendations based on safety concern discussed in the content."
   ]
  },
  {
   "cell_type": "code",
   "execution_count": 5,
   "id": "7386af48-bef4-4c5b-a8fd-706dd9166d90",
   "metadata": {},
   "outputs": [],
   "source": [
    "import os\n",
    "import requests\n",
    "from dotenv import load_dotenv\n",
    "from bs4 import BeautifulSoup\n",
    "from IPython.display import Markdown, display, update_display\n",
    "from openai import OpenAI"
   ]
  },
  {
   "cell_type": "code",
   "execution_count": 2,
   "id": "1ffc3bb1-8b3a-4510-a905-d5b51faab9dd",
   "metadata": {},
   "outputs": [
    {
     "name": "stdout",
     "output_type": "stream",
     "text": [
      "API key found and looks good so far!\n"
     ]
    }
   ],
   "source": [
    "load_dotenv(override=True)\n",
    "api_key = os.getenv('OPENAI_API_KEY')\n",
    "\n",
    "# Check the key\n",
    "if not api_key:\n",
    "    print(\"No API key was found - please head over to the troubleshooting notebook in this folder to identify & fix!\")\n",
    "elif not api_key.startswith(\"sk-proj-\"):\n",
    "    print(\"An API key was found, but it doesn't start sk-proj-; please check you're using the right key - see troubleshooting notebook\")\n",
    "elif api_key.strip() != api_key:\n",
    "    print(\"An API key was found, but it looks like it might have space or tab characters at the start or end - please remove them - see troubleshooting notebook\")\n",
    "else:\n",
    "    print(\"API key found and looks good so far!\")"
   ]
  },
  {
   "cell_type": "code",
   "execution_count": 3,
   "id": "1b89f835-a7a7-428c-97b2-6343e045500d",
   "metadata": {},
   "outputs": [],
   "source": [
    "openai = OpenAI()"
   ]
  },
  {
   "cell_type": "code",
   "execution_count": 4,
   "id": "6ce7b1a3-b855-4e21-9862-66875f647298",
   "metadata": {},
   "outputs": [],
   "source": [
    "# Scrape from website using simple scraper\n",
    "headers = {\n",
    " \"User-Agent\": \"Mozilla/5.0 (Windows NT 10.0; Win64; x64) AppleWebKit/537.36 (KHTML, like Gecko) Chrome/117.0.0.0 Safari/537.36\"\n",
    "}\n",
    "\n",
    "class ScrapeWebsite:\n",
    "    def __init__(self, url):\n",
    "        \"\"\"\n",
    "        Create this Website object from the given url using the BeautifulSoup library\n",
    "        \"\"\"\n",
    "        self.url = url\n",
    "        response = requests.get(url, headers=headers)\n",
    "        soup = BeautifulSoup(response.content, 'html.parser')\n",
    "        self.title = soup.title.string if soup.title else \"No title found\"\n",
    "        for irrelevant in soup.body([\"script\", \"style\", \"img\", \"input\"]):\n",
    "            irrelevant.decompose()\n",
    "        self.text = soup.body.get_text(separator=\"\\n\", strip=True)"
   ]
  },
  {
   "cell_type": "code",
   "execution_count": 8,
   "id": "ee6b353a-fc5e-4147-93e4-5f5d00c9b457",
   "metadata": {},
   "outputs": [],
   "source": [
    "class SummarizeContent:\n",
    "    def __init__(self, web_url):\n",
    "        self.website = ScrapeWebsite(web_url)\n",
    "        self.title = self.website.title\n",
    "        self.text = self.website.text\n",
    "\n",
    "    def prompt(self):\n",
    "        system_prompt = \"You are a construction safety expert assistant that analyzes the contents of a website \\\n",
    "            and provides a short summary about the hazards explained in the website, ignoring text that might be navigation related. \\\n",
    "            Respond in markdown.\"\n",
    "\n",
    "        user_prompt = f\"You are looking at a website titled {self.website.title}\"\n",
    "        user_prompt += \"\\nThe contents of this website is as follows; \\\n",
    "            please provide a short summary of this website in markdown. \\\n",
    "            Provides recommendation action for hazards in the content.\\n\\n\"\n",
    "        user_prompt += self.website.text\n",
    "        \n",
    "        return [\n",
    "            {\"role\": \"system\", \"content\": system_prompt},\n",
    "            {\"role\": \"user\", \"content\": user_prompt}\n",
    "        ]\n",
    "\n",
    "    def summarize(self):\n",
    "        stream = openai.chat.completions.create(\n",
    "            model='gpt-4o-mini', \n",
    "            messages=self.prompt(), \n",
    "            stream=True)\n",
    "\n",
    "        response = \"\"\n",
    "        display_handle = display(Markdown(\"\"), display_id=True)\n",
    "        for chunk in stream:\n",
    "            response += chunk.choices[0].delta.content or ''\n",
    "            response = response.replace(\"```\",\"\").replace(\"markdown\", \"\")\n",
    "            update_display(Markdown(response), display_id=display_handle.display_id)"
   ]
  },
  {
   "cell_type": "code",
   "execution_count": 9,
   "id": "9d29738b-45b4-4203-b3fd-92d21abe5177",
   "metadata": {},
   "outputs": [
    {
     "data": {
      "text/markdown": [
       "# Summary of Poor Housekeeping Hazards Toolbox Talk - Raken\n",
       "\n",
       "The **Poor Housekeeping Hazards Toolbox Talk** emphasizes the importance of maintaining a clean and organized workplace to ensure safety in construction settings. It identifies three main types of hazards stemming from poor housekeeping:\n",
       "\n",
       "1. **Strain and Sprain Hazards**\n",
       "   - Hazards arise from the improper placement of tools and materials, leading to potential trips and falls.\n",
       "   - **Recommendation:** Ensure items are stored correctly off the floor to minimize risks. Return tools to their designated places after use.\n",
       "\n",
       "2. **Laceration Hazards**\n",
       "   - Sharp objects and tools can cause cuts or lacerations if not properly managed.\n",
       "   - **Recommendation:** Clean up sharp items immediately and store them securely post-use to prevent accidental injuries.\n",
       "\n",
       "3. **Slip, Trip, and Fall Hazards**\n",
       "   - Spills and clutter can significantly increase the risk of slips, trips, and falls.\n",
       "   - **Recommendation:** Promptly address spills and ensure that walkways are clear and well-marked, especially in areas with changes in flooring levels.\n",
       "\n",
       "## Actionable Steps for Mitigating Hazards\n",
       "- Keep all floors dry and organized to prevent slipping or tripping.\n",
       "- Regularly inspect stairways and hallways, keeping them clear of clutter and cleaned.\n",
       "- Properly label any areas containing toxic substances.\n",
       "- Ensure safety equipment (fire extinguishers, emergency exits) is easily accessible and correctly placed.\n",
       "- Maintain cleanliness in restrooms and ensure waste disposal is frequent and organized.\n",
       "\n",
       "In conclusion, fostering a culture of good housekeeping practices is crucial for improving workplace safety and employee productivity. Each worker is encouraged to take responsibility for their workspace and uphold safety standards for the benefit of everyone on the job site."
      ],
      "text/plain": [
       "<IPython.core.display.Markdown object>"
      ]
     },
     "metadata": {},
     "output_type": "display_data"
    }
   ],
   "source": [
    "# Test on public website\n",
    "summarizer = SummarizeContent(\"https://www.rakenapp.com/features/toolbox-talks/3-poor-housekeeping-hazards\")\n",
    "summarizer.summarize()"
   ]
  },
  {
   "cell_type": "code",
   "execution_count": null,
   "id": "0989ec3c-16c3-4154-8acb-d2a641591e55",
   "metadata": {},
   "outputs": [],
   "source": []
  },
  {
   "cell_type": "code",
   "execution_count": null,
   "id": "69354084-de15-4109-9011-cf4e4f18a265",
   "metadata": {},
   "outputs": [],
   "source": []
  }
 ],
 "metadata": {
  "kernelspec": {
   "display_name": "Python 3 (ipykernel)",
   "language": "python",
   "name": "python3"
  },
  "language_info": {
   "codemirror_mode": {
    "name": "ipython",
    "version": 3
   },
   "file_extension": ".py",
   "mimetype": "text/x-python",
   "name": "python",
   "nbconvert_exporter": "python",
   "pygments_lexer": "ipython3",
   "version": "3.11.11"
  }
 },
 "nbformat": 4,
 "nbformat_minor": 5
}
