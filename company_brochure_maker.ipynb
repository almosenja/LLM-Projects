{
 "cells": [
  {
   "cell_type": "code",
   "execution_count": 13,
   "id": "e99527b5-9463-4e14-9237-2e32917b761c",
   "metadata": {},
   "outputs": [],
   "source": [
    "import os\n",
    "import requests\n",
    "import json\n",
    "from dotenv import load_dotenv\n",
    "from bs4 import BeautifulSoup\n",
    "from IPython.display import Markdown, display, update_display\n",
    "from openai import OpenAI"
   ]
  },
  {
   "cell_type": "code",
   "execution_count": 3,
   "id": "398475e6-3525-4e00-ac72-3abbfcc81772",
   "metadata": {},
   "outputs": [
    {
     "name": "stdout",
     "output_type": "stream",
     "text": [
      "API key looks good so far\n"
     ]
    }
   ],
   "source": [
    "load_dotenv(override=True)\n",
    "api_key = os.getenv(\"OPENAI_API_KEY\")\n",
    "\n",
    "# check the key\n",
    "if api_key and api_key.startswith('sk-proj-') and len(api_key)>10:\n",
    "    print(\"API key looks good so far\")\n",
    "else:\n",
    "    print(\"There might be a problem with your API key? Please visit the troubleshooting notebook!\")\n",
    "    \n",
    "MODEL = 'gpt-4o-mini'\n",
    "openai = OpenAI()"
   ]
  },
  {
   "cell_type": "code",
   "execution_count": 5,
   "id": "e79b2ecd-eb59-400e-ada5-6daee360ca38",
   "metadata": {},
   "outputs": [],
   "source": [
    "# Some websites need to use proper headers when fetching them:\n",
    "headers = {\n",
    " \"User-Agent\": \"Mozilla/5.0 (Windows NT 10.0; Win64; x64) AppleWebKit/537.36 (KHTML, like Gecko) Chrome/117.0.0.0 Safari/537.36\"\n",
    "}\n",
    "\n",
    "class ScrapeWebsite:\n",
    "    \"\"\"\n",
    "    A utility class to represent a Website that we have scraped, now with links\n",
    "    \"\"\"\n",
    "    def __init__(self, url):\n",
    "        self.url = url\n",
    "        response = requests.get(url, headers=headers)\n",
    "        self.body = response.content\n",
    "        soup = BeautifulSoup(self.body, 'html.parser')\n",
    "        self.title = soup.title.string if soup.title else \"No title found\"\n",
    "        if soup.body:\n",
    "            for irrelevant in soup.body([\"script\", \"style\", \"img\", \"input\"]):\n",
    "                irrelevant.decompose()\n",
    "            self.text = soup.body.get_text(separator=\"\\n\", strip=True)\n",
    "        else:\n",
    "            self.text = \"\"\n",
    "        links = [link.get('href') for link in soup.find_all('a')]\n",
    "        self.links = [link for link in links if link]\n",
    "\n",
    "    def get_contents(self):\n",
    "        return f\"Webpage Title:\\n{self.title}\\nWebpage Contents:\\n{self.text}\\n\\n\""
   ]
  },
  {
   "cell_type": "code",
   "execution_count": 14,
   "id": "ab134755-ceb6-42af-9be9-e668d7bd1481",
   "metadata": {},
   "outputs": [],
   "source": [
    "class MakeCompanyBrochure:\n",
    "    def __init__(self, company_name, url):\n",
    "        self.main_website = ScrapeWebsite(url)\n",
    "        self.company_name = company_name\n",
    "\n",
    "    def get_links(self):\n",
    "        system_prompt = \"You are provided with a list of links found on a webpage. \\\n",
    "            You are able to decide which of the links would be most relevant to include in a brochure about the company, \\\n",
    "            such as links to an About page, or a Company page, or Careers/Jobs pages.\\n\"\n",
    "        system_prompt += \"You should respond in JSON as in this example:\"\n",
    "        system_prompt += \"\"\"\n",
    "        {\n",
    "            \"links\": [\n",
    "                {\"type\": \"about page\", \"url\": \"https://full.url/goes/here/about\"},\n",
    "                {\"type\": \"careers page\": \"url\": \"https://another.full.url/careers\"}\n",
    "            ]\n",
    "        }\n",
    "        \"\"\"\n",
    "\n",
    "        user_prompt = f\"Here is the list of links on the website of {self.main_website.url} - \"\n",
    "        user_prompt += \"please decide which of these are relevant web links for a brochure about the company, respond with the full https URL in JSON format. \\\n",
    "            Do not include Terms of Service, Privacy, email links.\\n\"\n",
    "        user_prompt += \"Links (some might be relative links):\\n\"\n",
    "        user_prompt += \"\\n\".join(self.main_website.links)\n",
    "\n",
    "        response = openai.chat.completions.create(\n",
    "            model=MODEL,\n",
    "            messages=[\n",
    "                {\"role\": \"system\", \"content\": system_prompt},\n",
    "                {\"role\": \"user\", \"content\": user_prompt}\n",
    "          ],\n",
    "            response_format={\"type\": \"json_object\"}\n",
    "        )\n",
    "        result = response.choices[0].message.content\n",
    "        return json.loads(result)\n",
    "\n",
    "    def get_all_details(self):\n",
    "        result = \"Landing page:\\n\"\n",
    "        result += self.main_website.get_contents()\n",
    "        links = self.get_links()\n",
    "        print(\"Found links:\", links)\n",
    "        \n",
    "        for link in links[\"links\"]:\n",
    "            result += f\"\\n\\n{link['type']}\\n\"\n",
    "            result += ScrapeWebsite(link[\"url\"]).get_contents()\n",
    "        return result\n",
    "\n",
    "    def create_brochure(self):\n",
    "        system_prompt = \"You are an assistant that analyzes the contents of several relevant pages from a company website \\\n",
    "            and creates a short brochure about the company for prospective customers, investors and recruits. Respond in markdown.\\\n",
    "            Include details of company culture, customers and careers/jobs if you have the information.\"\n",
    "\n",
    "        user_prompt = f\"You are looking at a company called: {self.company_name}\\n\"\n",
    "        user_prompt += f\"Here are the contents of its landing page and other relevant pages; use this information to build a short brochure of the company in markdown.\\n\"\n",
    "        user_prompt += self.get_all_details()\n",
    "        user_prompt = user_prompt[:5_000]\n",
    "        \n",
    "        stream = openai.chat.completions.create(\n",
    "            model=MODEL,\n",
    "            messages=[\n",
    "                {\"role\": \"system\", \"content\": system_prompt},\n",
    "                {\"role\": \"user\", \"content\": user_prompt}\n",
    "              ],\n",
    "            stream=True\n",
    "        )\n",
    "        \n",
    "        response = \"\"\n",
    "        display_handle = display(Markdown(\"\"), display_id=True)\n",
    "        for chunk in stream:\n",
    "            response += chunk.choices[0].delta.content or ''\n",
    "            response = response.replace(\"```\",\"\").replace(\"markdown\", \"\")\n",
    "            update_display(Markdown(response), display_id=display_handle.display_id)"
   ]
  },
  {
   "cell_type": "code",
   "execution_count": 17,
   "id": "616df5ff-3bdf-4d1c-a996-a9fae109cb9e",
   "metadata": {},
   "outputs": [],
   "source": [
    "brochure = MakeCompanyBrochure(\"SafetyCulture\", \"https://safetyculture.com/\")"
   ]
  },
  {
   "cell_type": "code",
   "execution_count": 18,
   "id": "2f2ade1b-695e-4c6c-b53e-f7101e48e708",
   "metadata": {},
   "outputs": [
    {
     "name": "stdout",
     "output_type": "stream",
     "text": [
      "Found links: {'links': [{'type': 'about page', 'url': 'https://safetyculture.com/about/'}, {'type': 'careers page', 'url': 'https://safetyculture.com/careers/'}, {'type': 'company page', 'url': 'https://safetyculture.com/newsroom/'}, {'type': 'contact page', 'url': 'https://safetyculture.com/contact-us/'}, {'type': 'team page', 'url': 'https://safetyculture.com/meet-the-team/'}]}\n"
     ]
    },
    {
     "data": {
      "text/markdown": [
       "# SafetyCulture Company Brochure\n",
       "\n",
       "## Welcome to SafetyCulture\n",
       "\n",
       "At SafetyCulture, we empower teams to improve workplace operations, enhancing safety, efficiency, and overall operational excellence. Our innovative platform provides everything your teams need to work safely, meet higher standards, and improve every day.\n",
       "\n",
       "### Our Product Offering\n",
       "\n",
       "**Workplace Operations Platform**  \n",
       "Our all-in-one digital solution includes:\n",
       "\n",
       "- **Inspections**: Streamline audits and checklists, digitizing processes for instant data capture and reporting.\n",
       "- **Assets**: Gain full visibility of your assets with a digital register of their history and future activities.\n",
       "- **Training**: Create on-the-job courses quickly to onboard and upskill team members effectively.\n",
       "- **Sensors & IoT**: Utilize technology for real-time monitoring and management.\n",
       "- **Integrations**: Seamlessly connect with other tools and systems.\n",
       "- **Lone Worker**: Enhance safety for remote workers with real-time protections.\n",
       "- **Marketplace**: Your one-stop shop for workplace safety equipment.\n",
       "- **Insurance**: Introducing SafetyCulture Care, a unique blend of risk management, technology, and insurance.\n",
       "- **HSEQ Documentation**: Access comprehensive and trusted safety, health, quality, and environmental documents with SafetyDocs.\n",
       "\n",
       "### Who We Serve\n",
       "\n",
       "Our solutions cater to a range of industries including:\n",
       "\n",
       "- **Construction**\n",
       "- **Manufacturing**\n",
       "- **Facilities Management**\n",
       "- **Hospitality**\n",
       "- **Retail**\n",
       "- **Transport & Logistics**\n",
       "- **Mining**\n",
       "- **Healthcare & Pharmaceuticals**\n",
       "\n",
       "### Business Needs Addressed\n",
       "\n",
       "We support organizations of all sizes with:\n",
       "\n",
       "- **Health & Safety Management (EHS)**\n",
       "- **Risk Management and Compliance (GRC)**\n",
       "- **Operational Excellence**\n",
       "- **Environment & Sustainability (ESG)**\n",
       "\n",
       "### Company Culture\n",
       "\n",
       "At SafetyCulture, we believe in promoting a safety culture that empowers every individual. We foster an environment of collaboration, transparency, and continuous improvement, encouraging our teams to take an active role in improving quality, safety, and compliance. Our partnerships with notable organizations like the Australian Open exemplify our commitment to delivering exceptional experiences while prioritizing workforce engagement and safety.\n",
       "\n",
       "### Join Our Team!\n",
       "\n",
       "We are constantly looking for passionate and driven individuals to join our growing team. If you are interested in shaping the future of workplace safety and operational efficiency, we welcome your application. \n",
       "\n",
       "Check our [Careers page](#link) for current job openings and become a part of our mission to improve workplace operations globally!\n",
       "\n",
       "### Ready to Transform Your Workplace?\n",
       "\n",
       "Explore how SafetyCulture can make a difference in your operations. **[Book a demo today!](#link)**\n",
       "\n",
       "---\n",
       "\n",
       "For additional information, insights, and resources, visit our [website](#link) or [contact our support team](#link), who will be happy to assist you.\n",
       "\n",
       "---\n",
       "\n",
       "**SafetyCulture: Improve Workplace Operations, Every Day!**"
      ],
      "text/plain": [
       "<IPython.core.display.Markdown object>"
      ]
     },
     "metadata": {},
     "output_type": "display_data"
    }
   ],
   "source": [
    "brochure.create_brochure()"
   ]
  },
  {
   "cell_type": "code",
   "execution_count": null,
   "id": "3bc252b8-c466-4e1d-92b7-8031ccd806ae",
   "metadata": {},
   "outputs": [],
   "source": []
  }
 ],
 "metadata": {
  "kernelspec": {
   "display_name": "Python 3 (ipykernel)",
   "language": "python",
   "name": "python3"
  },
  "language_info": {
   "codemirror_mode": {
    "name": "ipython",
    "version": 3
   },
   "file_extension": ".py",
   "mimetype": "text/x-python",
   "name": "python",
   "nbconvert_exporter": "python",
   "pygments_lexer": "ipython3",
   "version": "3.11.11"
  }
 },
 "nbformat": 4,
 "nbformat_minor": 5
}
